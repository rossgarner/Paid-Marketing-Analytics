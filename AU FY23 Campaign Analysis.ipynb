{
 "cells": [
  {
   "cell_type": "code",
   "execution_count": 1,
   "id": "3e4222f2",
   "metadata": {},
   "outputs": [],
   "source": [
    "import pandas as pd"
   ]
  },
  {
   "cell_type": "code",
   "execution_count": 2,
   "id": "0c3c23f6",
   "metadata": {},
   "outputs": [],
   "source": [
    "campaign_df = pd.read_csv('FY23_AU_All_Campaigns.csv') #import campaign data from GCM360"
   ]
  },
  {
   "cell_type": "code",
   "execution_count": 3,
   "id": "697aa244",
   "metadata": {},
   "outputs": [
    {
     "name": "stdout",
     "output_type": "stream",
     "text": [
      "                                            Campaign  Campaign ID  \\\n",
      "0  NBA League Pass Australia - All Star Weekend FY23     29401107   \n",
      "1  NBA League Pass Australia - All Star Weekend FY23     29401107   \n",
      "2  NBA League Pass Australia - All Star Weekend FY23     29401107   \n",
      "3  NBA League Pass Australia - All Star Weekend FY23     29401107   \n",
      "4  NBA League Pass Australia - All Star Weekend FY23     29401107   \n",
      "\n",
      "   Site (CM360)                                          Placement       Date  \\\n",
      "0  affiperf.com  NBA League Pass Australia - All Star Weekend F...  16/2/2023   \n",
      "1  affiperf.com  NBA League Pass Australia - All Star Weekend F...  16/2/2023   \n",
      "2  affiperf.com  NBA League Pass Australia - All Star Weekend F...  17/2/2023   \n",
      "3  affiperf.com  NBA League Pass Australia - All Star Weekend F...  17/2/2023   \n",
      "4  affiperf.com  NBA League Pass Australia - All Star Weekend F...  18/2/2023   \n",
      "\n",
      "                                  Creative  Impressions  Clicks  Click Rate  \\\n",
      "0  NBA_160x600_asg_multi_ACCESS_WATCH_HERE        27302       7        0.03   \n",
      "1   NBA_160x600_asg_multi_STARS_WATCH_HERE        27232       8        0.03   \n",
      "2  NBA_160x600_asg_multi_ACCESS_WATCH_HERE        40782      12        0.03   \n",
      "3   NBA_160x600_asg_multi_STARS_WATCH_HERE        40606       4        0.01   \n",
      "4  NBA_160x600_asg_multi_ACCESS_WATCH_HERE        54183      12        0.02   \n",
      "\n",
      "   Total Conversions  Click-through Conversions  View-through Conversions  \n",
      "0                  0                          0                         0  \n",
      "1                  0                          0                         0  \n",
      "2                  0                          0                         0  \n",
      "3                  0                          0                         0  \n",
      "4                  0                          0                         0  \n"
     ]
    }
   ],
   "source": [
    "print(campaign_df.head())"
   ]
  },
  {
   "cell_type": "code",
   "execution_count": 5,
   "id": "8f448e80",
   "metadata": {},
   "outputs": [],
   "source": [
    "campaign_df_site = campaign_df.groupby('Site (CM360)')[['Impressions', 'Clicks', 'Total Conversions']].sum()"
   ]
  },
  {
   "cell_type": "code",
   "execution_count": 6,
   "id": "61246f1e",
   "metadata": {},
   "outputs": [
    {
     "name": "stdout",
     "output_type": "stream",
     "text": [
      "              Impressions  Clicks  Total Conversions\n",
      "Site (CM360)                                        \n",
      "QuantCast         8485382    1481                491\n",
      "affiperf.com    101086394  159714               2595\n"
     ]
    }
   ],
   "source": [
    "print(campaign_df_site.head()) #Get a quick glance of the sites ran during the campaign, impressions, clicks and converions"
   ]
  },
  {
   "cell_type": "code",
   "execution_count": 7,
   "id": "fd19d0a6",
   "metadata": {},
   "outputs": [],
   "source": [
    "import matplotlib.pyplot as plt"
   ]
  },
  {
   "cell_type": "code",
   "execution_count": 8,
   "id": "1ee0f1f5",
   "metadata": {},
   "outputs": [
    {
     "data": {
      "image/png": "[encoded data removed]",
      "text/plain": [
       "<Figure size 640x480 with 1 Axes>"
      ]
     },
     "metadata": {},
     "output_type": "display_data"
    }
   ],
   "source": [
    "campaign_df_site['Total Conversions'].plot(kind='bar') #plot the total conversions by site\n",
    "plt.show()"
   ]
  },
  {
   "cell_type": "code",
   "execution_count": 13,
   "id": "44d6d428",
   "metadata": {},
   "outputs": [],
   "source": [
    "# we notice something strange - only two sites are being pulled into our groupby function and our plot. We definitely ran YouTube ads this year so that's weird"
   ]
  },
  {
   "cell_type": "code",
   "execution_count": 9,
   "id": "43f828b4",
   "metadata": {},
   "outputs": [],
   "source": [
    "campaign_df_placement = campaign_df.groupby('Placement')[['Impressions', 'Clicks', 'Total Conversions']].sum() #let's check placement in case that gives more info to our missing youtube ads"
   ]
  },
  {
   "cell_type": "code",
   "execution_count": 11,
   "id": "b208ba0e",
   "metadata": {},
   "outputs": [
    {
     "data": {
      "text/html": [
       "<div>\n",
       "<style scoped>\n",
       "    .dataframe tbody tr th:only-of-type {\n",
       "        vertical-align: middle;\n",
       "    }\n",
       "\n",
       "    .dataframe tbody tr th {\n",
       "        vertical-align: top;\n",
       "    }\n",
       "\n",
       "    .dataframe thead th {\n",
       "        text-align: right;\n",
       "    }\n",
       "</style>\n",
       "<table border=\"1\" class=\"dataframe\">\n",
       "  <thead>\n",
       "    <tr style=\"text-align: right;\">\n",
       "      <th></th>\n",
       "      <th>Impressions</th>\n",
       "      <th>Clicks</th>\n",
       "      <th>Total Conversions</th>\n",
       "    </tr>\n",
       "    <tr>\n",
       "      <th>Placement</th>\n",
       "      <th></th>\n",
       "      <th></th>\n",
       "      <th></th>\n",
       "    </tr>\n",
       "  </thead>\n",
       "  <tbody>\n",
       "    <tr>\n",
       "      <th>NBA League Pass Australia - All Star Weekend FY23_HPH_Prospecting - Contextual_160x600</th>\n",
       "      <td>765467</td>\n",
       "      <td>201</td>\n",
       "      <td>2</td>\n",
       "    </tr>\n",
       "    <tr>\n",
       "      <th>NBA League Pass Australia - All Star Weekend FY23_HPH_Prospecting - Contextual_300x250</th>\n",
       "      <td>2133235</td>\n",
       "      <td>657</td>\n",
       "      <td>3</td>\n",
       "    </tr>\n",
       "    <tr>\n",
       "      <th>NBA League Pass Australia - All Star Weekend FY23_HPH_Prospecting - Contextual_300x600</th>\n",
       "      <td>223557</td>\n",
       "      <td>73</td>\n",
       "      <td>0</td>\n",
       "    </tr>\n",
       "    <tr>\n",
       "      <th>NBA League Pass Australia - All Star Weekend FY23_HPH_Prospecting - Contextual_728x90</th>\n",
       "      <td>1367242</td>\n",
       "      <td>475</td>\n",
       "      <td>1</td>\n",
       "    </tr>\n",
       "    <tr>\n",
       "      <th>NBA League Pass Australia - All Star Weekend FY23_HPH_Prospecting - Contextual_970x250</th>\n",
       "      <td>108200</td>\n",
       "      <td>40</td>\n",
       "      <td>1</td>\n",
       "    </tr>\n",
       "    <tr>\n",
       "      <th>...</th>\n",
       "      <td>...</td>\n",
       "      <td>...</td>\n",
       "      <td>...</td>\n",
       "    </tr>\n",
       "    <tr>\n",
       "      <th>NBA League Pass Australia - Start of Season FY23_YouTube_Prospecting - Contextual_TrueView</th>\n",
       "      <td>522290</td>\n",
       "      <td>1217</td>\n",
       "      <td>16</td>\n",
       "    </tr>\n",
       "    <tr>\n",
       "      <th>NBA League Pass Australia - Start of Season FY23_YouTube_Prospecting - Look-a-like_Bumper</th>\n",
       "      <td>7431</td>\n",
       "      <td>5</td>\n",
       "      <td>0</td>\n",
       "    </tr>\n",
       "    <tr>\n",
       "      <th>NBA League Pass Australia - Start of Season FY23_YouTube_Prospecting - Look-a-like_TrueView</th>\n",
       "      <td>652204</td>\n",
       "      <td>580</td>\n",
       "      <td>73</td>\n",
       "    </tr>\n",
       "    <tr>\n",
       "      <th>NBA League Pass Australia - Start of Season FY23_YouTube_Retargeting_Bumper</th>\n",
       "      <td>262287</td>\n",
       "      <td>266</td>\n",
       "      <td>8</td>\n",
       "    </tr>\n",
       "    <tr>\n",
       "      <th>NBA League Pass Australia - Start of Season FY23_YouTube_Retargeting_TrueView</th>\n",
       "      <td>443136</td>\n",
       "      <td>501</td>\n",
       "      <td>55</td>\n",
       "    </tr>\n",
       "  </tbody>\n",
       "</table>\n",
       "<p>197 rows × 3 columns</p>\n",
       "</div>"
      ],
      "text/plain": [
       "                                                    Impressions  Clicks  \\\n",
       "Placement                                                                 \n",
       "NBA League Pass Australia - All Star Weekend FY...       765467     201   \n",
       "NBA League Pass Australia - All Star Weekend FY...      2133235     657   \n",
       "NBA League Pass Australia - All Star Weekend FY...       223557      73   \n",
       "NBA League Pass Australia - All Star Weekend FY...      1367242     475   \n",
       "NBA League Pass Australia - All Star Weekend FY...       108200      40   \n",
       "...                                                         ...     ...   \n",
       "NBA League Pass Australia - Start of Season FY2...       522290    1217   \n",
       "NBA League Pass Australia - Start of Season FY2...         7431       5   \n",
       "NBA League Pass Australia - Start of Season FY2...       652204     580   \n",
       "NBA League Pass Australia - Start of Season FY2...       262287     266   \n",
       "NBA League Pass Australia - Start of Season FY2...       443136     501   \n",
       "\n",
       "                                                    Total Conversions  \n",
       "Placement                                                              \n",
       "NBA League Pass Australia - All Star Weekend FY...                  2  \n",
       "NBA League Pass Australia - All Star Weekend FY...                  3  \n",
       "NBA League Pass Australia - All Star Weekend FY...                  0  \n",
       "NBA League Pass Australia - All Star Weekend FY...                  1  \n",
       "NBA League Pass Australia - All Star Weekend FY...                  1  \n",
       "...                                                               ...  \n",
       "NBA League Pass Australia - Start of Season FY2...                 16  \n",
       "NBA League Pass Australia - Start of Season FY2...                  0  \n",
       "NBA League Pass Australia - Start of Season FY2...                 73  \n",
       "NBA League Pass Australia - Start of Season FY2...                  8  \n",
       "NBA League Pass Australia - Start of Season FY2...                 55  \n",
       "\n",
       "[197 rows x 3 columns]"
      ]
     },
     "execution_count": 11,
     "metadata": {},
     "output_type": "execute_result"
    }
   ],
   "source": [
    "campaign_df_placement.sort_values('Placement')"
   ]
  },
  {
   "cell_type": "code",
   "execution_count": 12,
   "id": "def0db4a",
   "metadata": {},
   "outputs": [],
   "source": [
    "#so youtube ads placement ran under the same site as all DV360 display ads, which makes sense"
   ]
  },
  {
   "cell_type": "code",
   "execution_count": null,
   "id": "799560b3",
   "metadata": {},
   "outputs": [],
   "source": []
  }
 ],
 "metadata": {
  "kernelspec": {
   "display_name": "Python 3 (ipykernel)",
   "language": "python",
   "name": "python3"
  },
  "language_info": {
   "codemirror_mode": {
    "name": "ipython",
    "version": 3
   },
   "file_extension": ".py",
   "mimetype": "text/x-python",
   "name": "python",
   "nbconvert_exporter": "python",
   "pygments_lexer": "ipython3",
   "version": "3.10.9"
  }
 },
 "nbformat": 4,
 "nbformat_minor": 5
}
